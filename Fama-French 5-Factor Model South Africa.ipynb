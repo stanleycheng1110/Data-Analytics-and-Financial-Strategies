{
 "cells": [
  {
   "cell_type": "code",
   "execution_count": 13,
   "id": "4dd65abd",
   "metadata": {
    "scrolled": true
   },
   "outputs": [
    {
     "name": "stdout",
     "output_type": "stream",
     "text": [
      "Requirement already satisfied: matplotlib in /Users/patricia/anaconda3/lib/python3.11/site-packages (3.7.2)\n",
      "Requirement already satisfied: seaborn in /Users/patricia/anaconda3/lib/python3.11/site-packages (0.12.2)\n",
      "Requirement already satisfied: contourpy>=1.0.1 in /Users/patricia/anaconda3/lib/python3.11/site-packages (from matplotlib) (1.0.5)\n",
      "Requirement already satisfied: cycler>=0.10 in /Users/patricia/anaconda3/lib/python3.11/site-packages (from matplotlib) (0.11.0)\n",
      "Requirement already satisfied: fonttools>=4.22.0 in /Users/patricia/anaconda3/lib/python3.11/site-packages (from matplotlib) (4.25.0)\n",
      "Requirement already satisfied: kiwisolver>=1.0.1 in /Users/patricia/anaconda3/lib/python3.11/site-packages (from matplotlib) (1.4.4)\n",
      "Requirement already satisfied: numpy>=1.20 in /Users/patricia/anaconda3/lib/python3.11/site-packages (from matplotlib) (1.24.3)\n",
      "Requirement already satisfied: packaging>=20.0 in /Users/patricia/anaconda3/lib/python3.11/site-packages (from matplotlib) (23.1)\n",
      "Requirement already satisfied: pillow>=6.2.0 in /Users/patricia/anaconda3/lib/python3.11/site-packages (from matplotlib) (9.4.0)\n",
      "Requirement already satisfied: pyparsing<3.1,>=2.3.1 in /Users/patricia/anaconda3/lib/python3.11/site-packages (from matplotlib) (3.0.9)\n",
      "Requirement already satisfied: python-dateutil>=2.7 in /Users/patricia/anaconda3/lib/python3.11/site-packages (from matplotlib) (2.8.2)\n",
      "Requirement already satisfied: pandas>=0.25 in /Users/patricia/anaconda3/lib/python3.11/site-packages (from seaborn) (2.0.3)\n",
      "Requirement already satisfied: pytz>=2020.1 in /Users/patricia/anaconda3/lib/python3.11/site-packages (from pandas>=0.25->seaborn) (2023.3.post1)\n",
      "Requirement already satisfied: tzdata>=2022.1 in /Users/patricia/anaconda3/lib/python3.11/site-packages (from pandas>=0.25->seaborn) (2023.3)\n",
      "Requirement already satisfied: six>=1.5 in /Users/patricia/anaconda3/lib/python3.11/site-packages (from python-dateutil>=2.7->matplotlib) (1.16.0)\n",
      "Note: you may need to restart the kernel to use updated packages.\n"
     ]
    }
   ],
   "source": [
    "pip install matplotlib seaborn"
   ]
  },
  {
   "cell_type": "code",
   "execution_count": 4,
   "id": "cbd4e483",
   "metadata": {},
   "outputs": [
    {
     "name": "stdout",
     "output_type": "stream",
     "text": [
      "Requirement already satisfied: prettytable in /Users/patricia/anaconda3/lib/python3.11/site-packages (3.10.0)\n",
      "Requirement already satisfied: wcwidth in /Users/patricia/anaconda3/lib/python3.11/site-packages (from prettytable) (0.2.5)\n",
      "Note: you may need to restart the kernel to use updated packages.\n"
     ]
    }
   ],
   "source": [
    "pip install prettytable"
   ]
  },
  {
   "cell_type": "code",
   "execution_count": 17,
   "id": "308a0474",
   "metadata": {
    "scrolled": true
   },
   "outputs": [
    {
     "name": "stderr",
     "output_type": "stream",
     "text": [
      "/var/folders/9d/s8hs65kn1hqf691ny_03xr0w0000gn/T/ipykernel_20299/3883636793.py:9: UserWarning: Parsing dates in %d/%m/%Y format when dayfirst=False (the default) was specified. Pass `dayfirst=True` or specify a format to silence this warning.\n",
      "  stock_returns['Date'] = pd.to_datetime(stock_returns['Date'])\n",
      "/var/folders/9d/s8hs65kn1hqf691ny_03xr0w0000gn/T/ipykernel_20299/3883636793.py:10: UserWarning: Parsing dates in %d/%m/%Y format when dayfirst=False (the default) was specified. Pass `dayfirst=True` or specify a format to silence this warning.\n",
      "  market_index_and_risk_free['Date'] = pd.to_datetime(market_index_and_risk_free['Date'])\n"
     ]
    }
   ],
   "source": [
    "import pandas as pd\n",
    "import statsmodels.api as sm\n",
    "from statsmodels.tsa.stattools import adfuller\n",
    "from prettytable import PrettyTable\n",
    "\n",
    "stock_returns = pd.read_csv('South Africa Company Data.csv')\n",
    "market_index_and_risk_free = pd.read_csv('South Africa Market Return and Risk Free.csv')\n",
    "\n",
    "stock_returns['Date'] = pd.to_datetime(stock_returns['Date'])\n",
    "market_index_and_risk_free['Date'] = pd.to_datetime(market_index_and_risk_free['Date'])\n",
    "\n",
    "stock_returns.sort_values(by=['Ticker', 'Date'], inplace=True)\n",
    "\n",
    "stock_returns['YoY_Total_Assets'] = stock_returns.groupby('Ticker')['Total Assets'].diff(12)\n",
    "\n",
    "start_date = '2019-01-31'\n",
    "end_date = '2023-12-31'\n",
    "stock_returns = stock_returns[(stock_returns['Date'] >= start_date) & (stock_returns['Date'] <= end_date)]\n",
    "market_index_and_risk_free = market_index_and_risk_free[(market_index_and_risk_free['Date'] >= start_date) & (market_index_and_risk_free['Date'] <= end_date)]\n",
    "\n",
    "stock_returns['Book_to_Market'] = stock_returns['Tangible Book Value'] / stock_returns['Market Capitalisation']\n",
    "\n",
    "stock_returns = stock_returns[(stock_returns['Market Capitalisation'] != 0) & (stock_returns['Return'] != 0) & (stock_returns['Book_to_Market'] != 0)\n",
    "                             & (stock_returns['Operating Income'] != 0) & (stock_returns['YoY_Total_Assets'] != 0)]\n",
    "\n",
    "market_index_and_risk_free['Rm'] = pd.to_numeric(market_index_and_risk_free['Rm'])\n",
    "market_index_and_risk_free['Rf'] = pd.to_numeric(market_index_and_risk_free['Rf'])\n",
    "\n",
    "merged_data = pd.merge(stock_returns, market_index_and_risk_free, on='Date', how='left')\n",
    "\n",
    "merged_data['Mkt-RF'] = merged_data['Rm'] - merged_data['Rf']\n",
    "merged_data['Excess_Return'] = merged_data['Return'] - merged_data['Rf']\n"
   ]
  },
  {
   "cell_type": "code",
   "execution_count": 18,
   "id": "133429ae",
   "metadata": {},
   "outputs": [
    {
     "name": "stdout",
     "output_type": "stream",
     "text": [
      "Variance Inflation Factor (VIF) Results for South Africa:\n",
      "+---------+--------------------+\n",
      "| Feature |        VIF         |\n",
      "+---------+--------------------+\n",
      "|  const  | 2.0761643791234325 |\n",
      "|  Mkt-RF | 1.2598060183842452 |\n",
      "|   SMB   | 1.0379157619417598 |\n",
      "|   HML   | 1.7599199730653858 |\n",
      "|   RMW   |  1.38942896385964  |\n",
      "|   CMA   | 1.5254852361018618 |\n",
      "+---------+--------------------+\n",
      "No evidence of multicollinearity issues among the predictor variables.\n"
     ]
    }
   ],
   "source": [
    "import pandas as pd\n",
    "from prettytable import PrettyTable\n",
    "from statsmodels.stats.outliers_influence import variance_inflation_factor\n",
    "\n",
    "vif_data = pd.DataFrame()\n",
    "vif_data['feature'] = X.columns\n",
    "vif_data['VIF'] = [variance_inflation_factor(X.values, i) for i in range(len(X.columns))]\n",
    "\n",
    "vif_table = PrettyTable()\n",
    "vif_table.field_names = [\"Feature\", \"VIF\"]\n",
    "\n",
    "for i, row in vif_data.iterrows():\n",
    "    vif_table.add_row([row['feature'], row['VIF']])\n",
    "\n",
    "print(\"Variance Inflation Factor (VIF) Results for South Africa:\")\n",
    "print(vif_table)\n",
    "\n",
    "if (vif_data['VIF'] > 10).any():\n",
    "    print(\"Warning: High multicollinearity detected in the predictor variables.\")\n",
    "else:\n",
    "    print(\"No evidence of multicollinearity issues among the predictor variables.\")\n"
   ]
  },
  {
   "cell_type": "code",
   "execution_count": 19,
   "id": "1a62560c",
   "metadata": {},
   "outputs": [
    {
     "name": "stdout",
     "output_type": "stream",
     "text": [
      "                 Fama-French Five-Factor Model for South Africa                 \n",
      "                               OLS Regression Results                              \n",
      "===================================================================================\n",
      "Dep. Variable:     Portfolio_Excess_Return   R-squared:                       0.947\n",
      "Model:                                 OLS   Adj. R-squared:                  0.943\n",
      "Method:                      Least Squares   F-statistic:                     194.5\n",
      "Date:                     Mon, 22 Apr 2024   Prob (F-statistic):           3.06e-33\n",
      "Time:                             16:06:13   Log-Likelihood:                 170.64\n",
      "No. Observations:                       60   AIC:                            -329.3\n",
      "Df Residuals:                           54   BIC:                            -316.7\n",
      "Df Model:                                5                                         \n",
      "Covariance Type:                 nonrobust                                         \n",
      "==============================================================================\n",
      "                 coef    std err          t      P>|t|      [0.025      0.975]\n",
      "------------------------------------------------------------------------------\n",
      "const          0.0077      0.003      2.787      0.007       0.002       0.013\n",
      "Mkt-RF         1.0388      0.040     25.684      0.000       0.958       1.120\n",
      "SMB            0.3914      0.052      7.482      0.000       0.287       0.496\n",
      "HML            0.1108      0.053      2.076      0.043       0.004       0.218\n",
      "RMW           -0.0668      0.050     -1.343      0.185      -0.167       0.033\n",
      "CMA           -0.0305      0.064     -0.477      0.636      -0.159       0.098\n",
      "==============================================================================\n",
      "Omnibus:                        2.126   Durbin-Watson:                   1.968\n",
      "Prob(Omnibus):                  0.345   Jarque-Bera (JB):                1.782\n",
      "Skew:                           0.422   Prob(JB):                        0.410\n",
      "Kurtosis:                       2.959   Cond. No.                         36.7\n",
      "==============================================================================\n",
      "\n",
      "Notes:\n",
      "[1] Standard Errors assume that the covariance matrix of the errors is correctly specified.\n"
     ]
    }
   ],
   "source": [
    "def calculate_factors(df):\n",
    "    median_mc = df['Market Capitalisation'].median()\n",
    "    df['Operating_Profitability'] = df['Operating Income'] / df['Total Assets']\n",
    "    median_op_profit = df['Operating_Profitability'].median()\n",
    "    median_inv = df['YoY_Total_Assets'].median()\n",
    "\n",
    "\n",
    "    small = df[df['Market Capitalisation'] < median_mc]\n",
    "    big = df[df['Market Capitalisation'] >= median_mc]\n",
    "    robust = df[df['Operating_Profitability'] >= median_op_profit]\n",
    "    weak = df[df['Operating_Profitability'] < median_op_profit]\n",
    "    conservative = df[df['YoY_Total_Assets'] <= median_inv]\n",
    "    aggressive = df[df['YoY_Total_Assets'] > median_inv]\n",
    "\n",
    "\n",
    "    tertiles_bm = df['Book_to_Market'].quantile([0.333, 0.666])\n",
    "    SL = small[small['Book_to_Market'] <= tertiles_bm.loc[0.333]]\n",
    "    SM = small[(small['Book_to_Market'] > tertiles_bm.loc[0.333]) & (small['Book_to_Market'] <= tertiles_bm.loc[0.666])]\n",
    "    SH = small[small['Book_to_Market'] > tertiles_bm.loc[0.666]]\n",
    "    \n",
    "    BL = big[big['Book_to_Market'] <= tertiles_bm.loc[0.333]]\n",
    "    BM = big[(big['Book_to_Market'] > tertiles_bm.loc[0.333]) & (big['Book_to_Market'] <= tertiles_bm.loc[0.666])]\n",
    "    BH = big[big['Book_to_Market'] > tertiles_bm.loc[0.666]]\n",
    "\n",
    "    portfolio_returns = {}\n",
    "    for portfolio in ('SL', 'SM', 'SH', 'BL', 'BM', 'BH'):\n",
    "        portfolio_df = locals()[portfolio]\n",
    "        if not portfolio_df.empty:\n",
    "            portfolio_returns[portfolio] = portfolio_df['Excess_Return'].mean()\n",
    "        else:\n",
    "            portfolio_returns[portfolio] = 0 \n",
    "\n",
    "    smb = (portfolio_returns.get('SL', 0) + portfolio_returns.get('SM', 0) + portfolio_returns.get('SH', 0)) / 3 - \\\n",
    "          (portfolio_returns.get('BL', 0) + portfolio_returns.get('BM', 0) + portfolio_returns.get('BH', 0)) / 3\n",
    "\n",
    "    hml = (portfolio_returns.get('SH', 0) + portfolio_returns.get('BH', 0)) / 2 - \\\n",
    "          (portfolio_returns.get('SL', 0) + portfolio_returns.get('BL', 0)) / 2\n",
    "\n",
    "    SR = robust[robust['Market Capitalisation'] < median_mc]['Excess_Return'].mean()\n",
    "    SW = weak[weak['Market Capitalisation'] < median_mc]['Excess_Return'].mean()\n",
    "    BR = robust[robust['Market Capitalisation'] >= median_mc]['Excess_Return'].mean()\n",
    "    BW = weak[weak['Market Capitalisation'] >= median_mc]['Excess_Return'].mean()\n",
    "    \n",
    "    SC = conservative[conservative['Market Capitalisation'] < median_mc]['Excess_Return'].mean()\n",
    "    SA = aggressive[aggressive['Market Capitalisation'] < median_mc]['Excess_Return'].mean()\n",
    "    BC = conservative[conservative['Market Capitalisation'] >= median_mc]['Excess_Return'].mean()\n",
    "    BA = aggressive[aggressive['Market Capitalisation'] >= median_mc]['Excess_Return'].mean()\n",
    "\n",
    "    rmw = (SR - SW) / 2 + (BR - BW) / 2\n",
    "    cma = (SC - SA) / 2 + (BC - BA) / 2\n",
    "\n",
    "    return pd.Series([smb, hml, rmw, cma], index=['SMB', 'HML', 'RMW', 'CMA'])\n",
    "\n",
    "factors = merged_data.groupby('Date').apply(calculate_factors)\n",
    "\n",
    "portfolio_returns = merged_data.groupby('Date').agg({'Excess_Return': 'mean', 'Mkt-RF': 'first'}).reset_index()\n",
    "portfolio_returns = portfolio_returns.rename(columns={'Excess_Return': 'Portfolio_Excess_Return'})\n",
    "\n",
    "final_data = pd.merge(portfolio_returns, factors, on='Date')\n",
    "\n",
    "X = sm.add_constant(final_data[['Mkt-RF', 'SMB', 'HML', 'RMW', 'CMA']])\n",
    "y = final_data['Portfolio_Excess_Return']\n",
    "\n",
    "\n",
    "model = sm.OLS(y, X).fit()\n",
    "\n",
    "header_text = \"Fama-French Five-Factor Model for South Africa\"\n",
    "\n",
    "console_width = 80\n",
    "\n",
    "centered_header = header_text.center(console_width)\n",
    "\n",
    "print(centered_header)\n",
    "\n",
    "print(model.summary())\n"
   ]
  },
  {
   "cell_type": "code",
   "execution_count": 20,
   "id": "1e786e89",
   "metadata": {},
   "outputs": [
    {
     "data": {
      "image/png": "[encoded data removed]",
      "text/plain": [
       "<Figure size 1000x500 with 1 Axes>"
      ]
     },
     "metadata": {},
     "output_type": "display_data"
    }
   ],
   "source": [
    "import matplotlib.pyplot as plt\n",
    "import pandas as pd\n",
    "\n",
    "factors = model.params.index[1:]  \n",
    "coefficients = model.params.values[1:]\n",
    "conf_int = model.conf_int().iloc[1:]  \n",
    "errors = (conf_int[1] - conf_int[0]) / 2  \n",
    "\n",
    "ols_data = pd.DataFrame({\n",
    "    \"Factor\": factors,\n",
    "    \"Coefficient\": coefficients,\n",
    "    \"Error\": errors,\n",
    "    \"P-Value\": model.pvalues[1:]  \n",
    "})\n",
    "\n",
    "\n",
    "fig, ax = plt.subplots(figsize=(10, 5))\n",
    "\n",
    "ax.bar(ols_data['Factor'], ols_data['Coefficient'], yerr=ols_data['Error'], capsize=5, color='skyblue', label='Coefficient')\n",
    "ax.axhline(0, color=\"black\", linewidth=0.8, linestyle=\"--\")  \n",
    "\n",
    "for i, (pval, coef) in enumerate(zip(ols_data['P-Value'], ols_data['Coefficient'])):\n",
    "    ax.text(i, coef + (0.01 if coef >= 0 else -0.02), f'p={pval:.4f}', color='black', ha='center', va='bottom' if coef >= 0 else 'top')\n",
    "\n",
    "ax.set_title(\"Impact of Fama-French Five Factors on South African Monthly Returns (2019-2023)\")\n",
    "ax.set_xlabel(\"Factor\")\n",
    "ax.set_ylabel(\"Coefficient Value\")\n",
    "plt.xticks(rotation=45) \n",
    "\n",
    "plt.show()"
   ]
  },
  {
   "cell_type": "code",
   "execution_count": null,
   "id": "b0d16416",
   "metadata": {},
   "outputs": [],
   "source": []
  }
 ],
 "metadata": {
  "kernelspec": {
   "display_name": "Python 3 (ipykernel)",
   "language": "python",
   "name": "python3"
  },
  "language_info": {
   "codemirror_mode": {
    "name": "ipython",
    "version": 3
   },
   "file_extension": ".py",
   "mimetype": "text/x-python",
   "name": "python",
   "nbconvert_exporter": "python",
   "pygments_lexer": "ipython3",
   "version": "3.11.5"
  }
 },
 "nbformat": 4,
 "nbformat_minor": 5
}
